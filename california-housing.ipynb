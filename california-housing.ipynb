{
  "nbformat": 4,
  "nbformat_minor": 0,
  "metadata": {
    "colab": {
      "name": "Untitled1.ipynb",
      "provenance": [],
      "authorship_tag": "ABX9TyOVjCxFpoaCMI8EKuo5k7Dr",
      "include_colab_link": true
    },
    "kernelspec": {
      "name": "python3",
      "display_name": "Python 3"
    }
  },
  "cells": [
    {
      "cell_type": "markdown",
      "metadata": {
        "id": "view-in-github",
        "colab_type": "text"
      },
      "source": [
        "<a href=\"https://colab.research.google.com/github/ankitpatil/machine-learning-playground/blob/main/california-housing.ipynb\" target=\"_parent\"><img src=\"https://colab.research.google.com/assets/colab-badge.svg\" alt=\"Open In Colab\"/></a>"
      ]
    },
    {
      "cell_type": "code",
      "metadata": {
        "id": "647sqsx6oxMq",
        "colab": {
          "base_uri": "https://localhost:8080/"
        },
        "outputId": "2f3ec677-4df7-43e9-9cb5-a33a1eee2f4c"
      },
      "source": [
        "\n",
        "from sklearn.datasets import fetch_california_housing\n",
        "from sklearn.model_selection import train_test_split\n",
        "from sklearn.preprocessing import StandardScaler\n",
        "from tensorflow import keras\n",
        "\n",
        "housing = fetch_california_housing()\n",
        "\n",
        "X_train_full, X_test, y_train_full, y_test = train_test_split(\n",
        "    housing.data, housing.target)\n",
        "X_train, X_valid, y_train, y_valid = train_test_split(\n",
        "    X_train_full, y_train_full)\n",
        "\n",
        "scaler = StandardScaler()\n",
        "X_train = scaler.fit_transform(X_train)\n",
        "X_valid = scaler.transform(X_valid)\n",
        "X_test = scaler.transform(X_test)\n",
        "\n",
        "model = keras.models.Sequential([\n",
        "    keras.layers.Dense(30, activation=\"relu\", input_shape=X_train.shape[1:]),\n",
        "    keras.layers.Dense(1)\n",
        "])\n",
        "model.compile(loss=\"mean_squared_error\", optimizer=\"sgd\")\n",
        "history = model.fit(X_train, y_train, epochs=20,\n",
        "                    validation_data=(X_valid, y_valid))\n",
        "\n",
        "mse_test = model.evaluate(X_test, y_test)\n",
        "X_new = X_test[:3] # pretend these are new instances\n",
        "y_pred = model.predict(X_new)\n",
        "\n",
        "print(y_pred)"
      ],
      "execution_count": 5,
      "outputs": [
        {
          "output_type": "stream",
          "text": [
            "Epoch 1/20\n",
            "363/363 [==============================] - 1s 2ms/step - loss: 0.8397 - val_loss: 0.5886\n",
            "Epoch 2/20\n",
            "363/363 [==============================] - 0s 1ms/step - loss: 0.5108 - val_loss: 0.5249\n",
            "Epoch 3/20\n",
            "363/363 [==============================] - 0s 970us/step - loss: 0.4665 - val_loss: 0.4866\n",
            "Epoch 4/20\n",
            "363/363 [==============================] - 0s 1ms/step - loss: 0.4476 - val_loss: 0.4700\n",
            "Epoch 5/20\n",
            "363/363 [==============================] - 0s 982us/step - loss: 0.4365 - val_loss: 0.4561\n",
            "Epoch 6/20\n",
            "363/363 [==============================] - 0s 940us/step - loss: 0.4315 - val_loss: 0.4475\n",
            "Epoch 7/20\n",
            "363/363 [==============================] - 0s 992us/step - loss: 0.4229 - val_loss: 0.4501\n",
            "Epoch 8/20\n",
            "363/363 [==============================] - 0s 925us/step - loss: 0.4170 - val_loss: 0.4375\n",
            "Epoch 9/20\n",
            "363/363 [==============================] - 0s 1ms/step - loss: 0.4116 - val_loss: 0.4297\n",
            "Epoch 10/20\n",
            "363/363 [==============================] - 0s 985us/step - loss: 0.4067 - val_loss: 0.4295\n",
            "Epoch 11/20\n",
            "363/363 [==============================] - 0s 976us/step - loss: 0.4026 - val_loss: 0.4206\n",
            "Epoch 12/20\n",
            "363/363 [==============================] - 0s 1ms/step - loss: 0.4016 - val_loss: 0.4203\n",
            "Epoch 13/20\n",
            "363/363 [==============================] - 0s 942us/step - loss: 0.3954 - val_loss: 0.4251\n",
            "Epoch 14/20\n",
            "363/363 [==============================] - 0s 1ms/step - loss: 0.3909 - val_loss: 0.4116\n",
            "Epoch 15/20\n",
            "363/363 [==============================] - 0s 957us/step - loss: 0.3894 - val_loss: 0.4249\n",
            "Epoch 16/20\n",
            "363/363 [==============================] - 0s 946us/step - loss: 0.3894 - val_loss: 0.4124\n",
            "Epoch 17/20\n",
            "363/363 [==============================] - 0s 966us/step - loss: 0.3838 - val_loss: 0.4036\n",
            "Epoch 18/20\n",
            "363/363 [==============================] - 0s 1ms/step - loss: 0.3820 - val_loss: 0.4061\n",
            "Epoch 19/20\n",
            "363/363 [==============================] - 0s 946us/step - loss: 0.3798 - val_loss: 0.4054\n",
            "Epoch 20/20\n",
            "363/363 [==============================] - 0s 936us/step - loss: 0.3770 - val_loss: 0.3956\n",
            "162/162 [==============================] - 0s 596us/step - loss: 0.3845\n",
            "[[2.7442672]\n",
            " [3.143201 ]\n",
            " [2.325321 ]]\n"
          ],
          "name": "stdout"
        }
      ]
    }
  ]
}